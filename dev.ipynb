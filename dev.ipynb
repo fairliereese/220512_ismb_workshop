{
 "cells": [
  {
   "cell_type": "code",
   "execution_count": 17,
   "id": "7ca987df-9af1-48b6-a6a0-715e2d924239",
   "metadata": {},
   "outputs": [],
   "source": [
    "import os\n",
    "import pandas as pd\n",
    "\n",
    "df = pd.read_csv('metadata.tsv', sep='\\t')\n",
    "m = {'endodermal cell': 'h1_de', 'H1': 'h1'}\n",
    "df['hr'] = df['Biosample term name'].map(m)\n",
    "df['biorep'] = df.groupby('hr').cumcount()+1\n",
    "df['hr'] = df.hr+'_'+df.biorep.astype(str)\n",
    "\n",
    "for ind, entry in df.iterrows():\n",
    "    old = entry['File accession']+'.bam'\n",
    "    old = entry.hr\n",
    "    new = entry.hr+'.bam'\n",
    "    os.rename(old, new)\n",
    "    "
   ]
  },
  {
   "cell_type": "code",
   "execution_count": 25,
   "id": "ff17e746-faeb-42db-bfe9-09de0a5381d6",
   "metadata": {},
   "outputs": [],
   "source": []
  },
  {
   "cell_type": "code",
   "execution_count": null,
   "id": "40c247a1-ddba-4235-b806-712239c4068a",
   "metadata": {},
   "outputs": [],
   "source": []
  }
 ],
 "metadata": {
  "kernelspec": {
   "display_name": "Python 3",
   "language": "python",
   "name": "python3"
  },
  "language_info": {
   "codemirror_mode": {
    "name": "ipython",
    "version": 3
   },
   "file_extension": ".py",
   "mimetype": "text/x-python",
   "name": "python",
   "nbconvert_exporter": "python",
   "pygments_lexer": "ipython3",
   "version": "3.7.4"
  }
 },
 "nbformat": 4,
 "nbformat_minor": 5
}
